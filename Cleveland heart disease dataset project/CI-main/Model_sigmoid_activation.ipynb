{
 "cells": [
  {
   "cell_type": "markdown",
   "metadata": {},
   "source": [
    "# Neural Network implementation project"
   ]
  },
  {
   "cell_type": "markdown",
   "metadata": {},
   "source": [
    "## Imporing required libraries"
   ]
  },
  {
   "cell_type": "code",
   "execution_count": 146,
   "metadata": {},
   "outputs": [],
   "source": [
    "import pandas as pd\n",
    "import numpy as np\n",
    "import scipy\n",
    "import matplotlib.pyplot as plt\n",
    "from sklearn.model_selection import train_test_split\n",
    "from sklearn.metrics import accuracy_score"
   ]
  },
  {
   "cell_type": "markdown",
   "metadata": {},
   "source": [
    "## loading dataset"
   ]
  },
  {
   "cell_type": "code",
   "execution_count": 147,
   "metadata": {},
   "outputs": [],
   "source": [
    "def load_dataset(dataset):\n",
    "    df = pd.read_csv(dataset)\n",
    "    X = df.drop('target', axis=1)\n",
    "    y = df.get('target')\n",
    "    #X = (X-X.mean())/X.std()\n",
    "    X_train,X_test,y_train,y_test = train_test_split(X,y,random_state=0,train_size=0.7)\n",
    "    X_train = X_train.T\n",
    "    y_train = y_train.values.reshape(1,y_train.values.shape[0])\n",
    "    X_test = X_test.T\n",
    "    y_test = y_test.values.reshape(1,y_test.values.shape[0])\n",
    "    \n",
    "    return X_train,y_train,X_test,y_test"
   ]
  },
  {
   "cell_type": "code",
   "execution_count": 148,
   "metadata": {
    "scrolled": false
   },
   "outputs": [],
   "source": [
    "X_train,y_train,X_test,y_test = load_dataset(\"heart.csv\")"
   ]
  },
  {
   "cell_type": "markdown",
   "metadata": {},
   "source": [
    "## Initializing Parameters"
   ]
  },
  {
   "cell_type": "code",
   "execution_count": 169,
   "metadata": {},
   "outputs": [],
   "source": [
    "def initialize_parameters(layer_dims):\n",
    "    np.random.seed(0)\n",
    "    parameters = {}\n",
    "    L = len(layer_dims)\n",
    "    for l in range(1, L):\n",
    "        parameters['W' + str(l)] = np.random.randn(layer_dims[l],layer_dims[l-1])\n",
    "        parameters['b' + str(l)] = np.zeros((layer_dims[l],1))\n",
    "    return parameters"
   ]
  },
  {
   "cell_type": "markdown",
   "metadata": {},
   "source": [
    "## Forward propagation"
   ]
  },
  {
   "cell_type": "code",
   "execution_count": 170,
   "metadata": {},
   "outputs": [],
   "source": [
    "def forward_propagation(X,parameters):\n",
    "    linear = {}\n",
    "    activations = {}\n",
    "    activations[\"A0\"] = X\n",
    "    L = len(parameters) // 2\n",
    "    for l in range(1, L):\n",
    "        A_prev = activations[\"A\"+str(l-1)]\n",
    "        linear[\"Z\"+str(l)] = np.dot(parameters[\"W\"+str(l)],A_prev)+parameters[\"b\"+str(l)]\n",
    "        activations[\"A\"+str(l)] = 1/(1+np.exp(-linear[\"Z\"+str(l)]))\n",
    "    A_prev = activations[\"A\"+str(L-1)]\n",
    "    linear[\"Z\"+str(L)] = np.dot(parameters[\"W\"+str(L)],A_prev)+parameters[\"b\"+str(L)]\n",
    "    activations[\"A\"+str(L)] = 1/(1+np.exp(-linear[\"Z\"+str(L)]))\n",
    "    return linear,activations"
   ]
  },
  {
   "cell_type": "markdown",
   "metadata": {},
   "source": [
    "## Computing Cost function"
   ]
  },
  {
   "cell_type": "code",
   "execution_count": 171,
   "metadata": {},
   "outputs": [],
   "source": [
    "def compute_cost(AL,Y):\n",
    "    \n",
    "    m = Y.shape[1]\n",
    "    cost = -np.sum(Y*np.log(AL)+(1-Y)*np.log(1-AL))/m\n",
    "    \n",
    "    return cost"
   ]
  },
  {
   "cell_type": "markdown",
   "metadata": {},
   "source": [
    "## Backward propagation"
   ]
  },
  {
   "cell_type": "code",
   "execution_count": 172,
   "metadata": {},
   "outputs": [],
   "source": [
    "def backward_propagation(AL, Y, linear,activations,parameters):\n",
    "    grads = {}\n",
    "    L = len(linear)\n",
    "    m = AL.shape[1]\n",
    "    Y = Y.reshape(AL.shape)\n",
    "    grads[\"dZ\"+str(L)] = AL-Y\n",
    "    grads[\"dW\" + str(L)] = 1./m * np.dot(grads[\"dZ\"+str(L)],activations[\"A\"+str(L)].T)\n",
    "    grads[\"db\" + str(L)] = 1./m * np.sum(grads[\"dZ\"+str(L)],axis=1, keepdims=True)\n",
    "    for l in reversed(range(L-1)):\n",
    "        s = 1/(1+np.exp(-linear[\"Z\"+str(l+1)]))\n",
    "        grads[\"dZ\"+str(l+1)] = np.dot(parameters['W'+str(l+2)].T,grads[\"dZ\"+str(l+2)])*s*(1-s)\n",
    "        grads[\"dW\" + str(l + 1)] = 1./m * np.dot(grads[\"dZ\"+str(l+1)],activations[\"A\"+str(l)].T)\n",
    "        grads[\"db\" + str(l + 1)] = 1./m * np.sum(grads[\"dZ\"+str(l+1)],axis=1, keepdims=True)\n",
    "    return grads"
   ]
  },
  {
   "cell_type": "markdown",
   "metadata": {},
   "source": [
    "## Updating the parameters"
   ]
  },
  {
   "cell_type": "code",
   "execution_count": 173,
   "metadata": {},
   "outputs": [],
   "source": [
    "def update_parameters(parameters, grads, learning_rate):\n",
    "    \n",
    "    L = len(parameters) // 2\n",
    "    \n",
    "    for l in range(L):\n",
    "        parameters[\"W\" + str(l+1)] = parameters[\"W\" + str(l+1)]-learning_rate*grads[\"dW\" + str(l+1)]\n",
    "        parameters[\"b\" + str(l+1)] = parameters[\"b\" + str(l+1)]-learning_rate*grads[\"db\" + str(l+1)]\n",
    "        \n",
    "    return parameters"
   ]
  },
  {
   "cell_type": "markdown",
   "metadata": {},
   "source": [
    "## Optimization function"
   ]
  },
  {
   "cell_type": "code",
   "execution_count": 174,
   "metadata": {},
   "outputs": [],
   "source": [
    "def optimize(X, Y, layers_dims, learning_rate, num_iterations = 2500, print_cost=False,model_name = \"Neural Network\"):\n",
    "\n",
    "    np.random.seed(1)\n",
    "    costs = []\n",
    "    parameters = initialize_parameters(layers_dims)\n",
    "\n",
    "    for i in range(0, num_iterations):\n",
    "        \n",
    "        linear,activations = forward_propagation(X_train,parameters)\n",
    "        L = len(parameters) // 2\n",
    "        grads = backward_propagation(activations[\"A\"+str(L)],y_train,linear,activations,parameters)\n",
    "        cost = compute_cost(activations[\"A\"+str(L)],Y)\n",
    "        parameters = update_parameters(parameters,grads,learning_rate)\n",
    "        \n",
    "        if print_cost and i % 1000 == 0:\n",
    "            print (\"Cost after iteration %i: %f\" %(i, cost))\n",
    "        if print_cost and i % 1000 == 0:\n",
    "            costs.append(cost)\n",
    "    print (\"Cost after iteration %i: %f\" %(i, cost))\n",
    "    # plot the cost\n",
    "    plt.plot(np.squeeze(costs))\n",
    "    plt.ylabel('cost')\n",
    "    plt.xlabel('iterations (per hundreds)')\n",
    "    plt.title(model_name+\" at Learning rate =\" + str(learning_rate))\n",
    "    plt.show()\n",
    "    \n",
    "    return parameters,costs"
   ]
  },
  {
   "cell_type": "code",
   "execution_count": 186,
   "metadata": {
    "scrolled": false
   },
   "outputs": [
    {
     "name": "stdout",
     "output_type": "stream",
     "text": [
      "Cost after iteration 0: 0.848451\n",
      "Cost after iteration 1000: 0.586611\n",
      "Cost after iteration 2000: 0.573728\n",
      "Cost after iteration 3000: 0.577536\n",
      "Cost after iteration 4000: 0.560609\n",
      "Cost after iteration 5000: 0.569121\n",
      "Cost after iteration 6000: 0.549399\n",
      "Cost after iteration 7000: 0.562824\n",
      "Cost after iteration 7499: 0.544090\n"
     ]
    },
    {
     "data": {
      "image/png": "[encoded data removed]",
      "text/plain": [
       "<Figure size 432x288 with 1 Axes>"
      ]
     },
     "metadata": {
      "needs_background": "light"
     },
     "output_type": "display_data"
    }
   ],
   "source": [
    "parameters,costs = optimize(X_train, y_train, [X_train.shape[0],20,20,1], learning_rate = 0.02, num_iterations = 7500, print_cost=True)"
   ]
  },
  {
   "cell_type": "code",
   "execution_count": 176,
   "metadata": {},
   "outputs": [
    {
     "data": {
      "text/plain": [
       "(1, 20)"
      ]
     },
     "execution_count": 176,
     "metadata": {},
     "output_type": "execute_result"
    }
   ],
   "source": [
    "parameters[\"W3\"].shape"
   ]
  },
  {
   "cell_type": "code",
   "execution_count": 177,
   "metadata": {
    "scrolled": true
   },
   "outputs": [
    {
     "data": {
      "text/plain": [
       "(1, 1)"
      ]
     },
     "execution_count": 177,
     "metadata": {},
     "output_type": "execute_result"
    }
   ],
   "source": [
    "linear,activations = forward_propagation(X_test[225].values.reshape(13,1),parameters)\n",
    "activations[\"A3\"].shape"
   ]
  },
  {
   "cell_type": "code",
   "execution_count": 202,
   "metadata": {
    "scrolled": true
   },
   "outputs": [
    {
     "name": "stdout",
     "output_type": "stream",
     "text": [
      "Cost after iteration 0: 0.785711\n",
      "Cost after iteration 1000: 0.689870\n",
      "Cost after iteration 2000: 0.688116\n",
      "Cost after iteration 3000: 0.686408\n",
      "Cost after iteration 4000: 0.684765\n",
      "Cost after iteration 5000: 0.683211\n",
      "Cost after iteration 6000: 0.681766\n",
      "Cost after iteration 7000: 0.680440\n",
      "Cost after iteration 8000: 0.679232\n",
      "Cost after iteration 9000: 0.678141\n",
      "Cost after iteration 9999: 0.677158\n"
     ]
    },
    {
     "data": {
      "image/png": "[encoded data removed]",
      "text/plain": [
       "<Figure size 432x288 with 1 Axes>"
      ]
     },
     "metadata": {
      "needs_background": "light"
     },
     "output_type": "display_data"
    },
    {
     "name": "stdout",
     "output_type": "stream",
     "text": [
      "Cost after iteration 0: 0.659518\n",
      "Cost after iteration 1000: 0.643742\n",
      "Cost after iteration 2000: 0.637674\n",
      "Cost after iteration 3000: 0.631155\n",
      "Cost after iteration 4000: 0.625168\n",
      "Cost after iteration 5000: 0.620723\n",
      "Cost after iteration 6000: 0.614333\n",
      "Cost after iteration 7000: 0.608677\n",
      "Cost after iteration 8000: 0.605035\n",
      "Cost after iteration 9000: 0.602074\n",
      "Cost after iteration 9999: 0.599897\n"
     ]
    },
    {
     "data": {
      "image/png": "[encoded data removed]",
      "text/plain": [
       "<Figure size 432x288 with 1 Axes>"
      ]
     },
     "metadata": {
      "needs_background": "light"
     },
     "output_type": "display_data"
    },
    {
     "name": "stdout",
     "output_type": "stream",
     "text": [
      "Cost after iteration 0: 0.848451\n",
      "Cost after iteration 1000: 0.629480\n",
      "Cost after iteration 2000: 0.621832\n",
      "Cost after iteration 3000: 0.579432\n",
      "Cost after iteration 4000: 0.575554\n",
      "Cost after iteration 5000: 0.569329\n",
      "Cost after iteration 6000: 0.563768\n",
      "Cost after iteration 7000: 0.558017\n",
      "Cost after iteration 8000: 0.552882\n",
      "Cost after iteration 9000: 0.549384\n",
      "Cost after iteration 9999: 0.546679\n"
     ]
    },
    {
     "data": {
      "image/png": "[encoded data removed]",
      "text/plain": [
       "<Figure size 432x288 with 1 Axes>"
      ]
     },
     "metadata": {
      "needs_background": "light"
     },
     "output_type": "display_data"
    },
    {
     "name": "stderr",
     "output_type": "stream",
     "text": [
      "<ipython-input-170-cb5a10bd4c84>:9: RuntimeWarning: overflow encountered in exp\n",
      "  activations[\"A\"+str(l)] = 1/(1+np.exp(-linear[\"Z\"+str(l)]))\n",
      "<ipython-input-172-286ab35a1fa0>:10: RuntimeWarning: overflow encountered in exp\n",
      "  s = 1/(1+np.exp(-linear[\"Z\"+str(l+1)]))\n"
     ]
    },
    {
     "name": "stdout",
     "output_type": "stream",
     "text": [
      "Cost after iteration 0: 0.783057\n",
      "Cost after iteration 1000: 0.621118\n",
      "Cost after iteration 2000: 0.606258\n",
      "Cost after iteration 3000: 0.590299\n",
      "Cost after iteration 4000: 0.574481\n",
      "Cost after iteration 5000: 0.545546\n",
      "Cost after iteration 6000: 0.547479\n",
      "Cost after iteration 7000: 0.539600\n",
      "Cost after iteration 8000: 0.530925\n",
      "Cost after iteration 9000: 0.526555\n",
      "Cost after iteration 9999: 0.518283\n"
     ]
    },
    {
     "data": {
      "image/png": "[encoded data removed]",
      "text/plain": [
       "<Figure size 432x288 with 1 Axes>"
      ]
     },
     "metadata": {
      "needs_background": "light"
     },
     "output_type": "display_data"
    },
    {
     "name": "stdout",
     "output_type": "stream",
     "text": [
      "Cost after iteration 0: 2.841881\n"
     ]
    },
    {
     "name": "stderr",
     "output_type": "stream",
     "text": [
      "<ipython-input-170-cb5a10bd4c84>:9: RuntimeWarning: overflow encountered in exp\n",
      "  activations[\"A\"+str(l)] = 1/(1+np.exp(-linear[\"Z\"+str(l)]))\n",
      "<ipython-input-172-286ab35a1fa0>:10: RuntimeWarning: overflow encountered in exp\n",
      "  s = 1/(1+np.exp(-linear[\"Z\"+str(l+1)]))\n"
     ]
    },
    {
     "name": "stdout",
     "output_type": "stream",
     "text": [
      "Cost after iteration 1000: 0.548109\n",
      "Cost after iteration 2000: 0.527646\n",
      "Cost after iteration 3000: 0.520749\n",
      "Cost after iteration 4000: 0.509392\n",
      "Cost after iteration 5000: 0.501100\n",
      "Cost after iteration 6000: 0.498799\n",
      "Cost after iteration 7000: 0.501865\n",
      "Cost after iteration 8000: 0.503046\n",
      "Cost after iteration 9000: 0.505465\n",
      "Cost after iteration 9999: 0.506209\n"
     ]
    },
    {
     "data": {
      "image/png": "[encoded data removed]",
      "text/plain": [
       "<Figure size 432x288 with 1 Axes>"
      ]
     },
     "metadata": {
      "needs_background": "light"
     },
     "output_type": "display_data"
    },
    {
     "name": "stderr",
     "output_type": "stream",
     "text": [
      "<ipython-input-170-cb5a10bd4c84>:9: RuntimeWarning: overflow encountered in exp\n",
      "  activations[\"A\"+str(l)] = 1/(1+np.exp(-linear[\"Z\"+str(l)]))\n",
      "<ipython-input-172-286ab35a1fa0>:10: RuntimeWarning: overflow encountered in exp\n",
      "  s = 1/(1+np.exp(-linear[\"Z\"+str(l+1)]))\n"
     ]
    },
    {
     "name": "stdout",
     "output_type": "stream",
     "text": [
      "Cost after iteration 0: 2.078157\n",
      "Cost after iteration 1000: 0.506041\n",
      "Cost after iteration 2000: 0.471320\n",
      "Cost after iteration 3000: 0.454634\n",
      "Cost after iteration 4000: 0.438173\n",
      "Cost after iteration 5000: 0.432010\n",
      "Cost after iteration 6000: 0.439285\n",
      "Cost after iteration 7000: 0.434443\n",
      "Cost after iteration 8000: 0.434374\n",
      "Cost after iteration 9000: 0.423564\n",
      "Cost after iteration 9999: 0.430702\n"
     ]
    },
    {
     "data": {
      "image/png": "[encoded data removed]",
      "text/plain": [
       "<Figure size 432x288 with 1 Axes>"
      ]
     },
     "metadata": {
      "needs_background": "light"
     },
     "output_type": "display_data"
    },
    {
     "name": "stderr",
     "output_type": "stream",
     "text": [
      "<ipython-input-170-cb5a10bd4c84>:9: RuntimeWarning: overflow encountered in exp\n",
      "  activations[\"A\"+str(l)] = 1/(1+np.exp(-linear[\"Z\"+str(l)]))\n",
      "<ipython-input-172-286ab35a1fa0>:10: RuntimeWarning: overflow encountered in exp\n",
      "  s = 1/(1+np.exp(-linear[\"Z\"+str(l+1)]))\n"
     ]
    },
    {
     "name": "stdout",
     "output_type": "stream",
     "text": [
      "Cost after iteration 0: 1.848325\n",
      "Cost after iteration 1000: 0.467785\n",
      "Cost after iteration 2000: 0.460292\n",
      "Cost after iteration 3000: 0.467293\n",
      "Cost after iteration 4000: 0.462439\n",
      "Cost after iteration 5000: 0.457573\n",
      "Cost after iteration 6000: 0.423846\n",
      "Cost after iteration 7000: 0.429309\n",
      "Cost after iteration 8000: 0.425306\n",
      "Cost after iteration 9000: 0.420583\n",
      "Cost after iteration 9999: 0.420958\n"
     ]
    },
    {
     "data": {
      "image/png": "[encoded data removed]",
      "text/plain": [
       "<Figure size 432x288 with 1 Axes>"
      ]
     },
     "metadata": {
      "needs_background": "light"
     },
     "output_type": "display_data"
    },
    {
     "name": "stderr",
     "output_type": "stream",
     "text": [
      "<ipython-input-170-cb5a10bd4c84>:9: RuntimeWarning: overflow encountered in exp\n",
      "  activations[\"A\"+str(l)] = 1/(1+np.exp(-linear[\"Z\"+str(l)]))\n",
      "<ipython-input-172-286ab35a1fa0>:10: RuntimeWarning: overflow encountered in exp\n",
      "  s = 1/(1+np.exp(-linear[\"Z\"+str(l+1)]))\n"
     ]
    },
    {
     "name": "stdout",
     "output_type": "stream",
     "text": [
      "Cost after iteration 0: 0.866593\n",
      "Cost after iteration 1000: 0.389669\n",
      "Cost after iteration 2000: 0.390287\n",
      "Cost after iteration 3000: 0.379689\n",
      "Cost after iteration 4000: 0.376386\n",
      "Cost after iteration 5000: 0.387072\n",
      "Cost after iteration 6000: 0.389957\n",
      "Cost after iteration 7000: 0.389711\n",
      "Cost after iteration 8000: 0.389271\n",
      "Cost after iteration 9000: 0.386848\n",
      "Cost after iteration 9999: 0.382113\n"
     ]
    },
    {
     "data": {
      "image/png": "[encoded data removed]",
      "text/plain": [
       "<Figure size 432x288 with 1 Axes>"
      ]
     },
     "metadata": {
      "needs_background": "light"
     },
     "output_type": "display_data"
    }
   ],
   "source": [
    "diff_hidden_layers_size = [[X_train.shape[0],5,5,1],[X_train.shape[0],10,10,1],\n",
    "                           [X_train.shape[0],20,20,1],[X_train.shape[0],50,50,1],\n",
    "                           [X_train.shape[0],100,100,1],[X_train.shape[0],150,150,1],\n",
    "                           [X_train.shape[0],200,200,1],[X_train.shape[0],250,250,1]]\n",
    "\n",
    "diff_hidden_layers_parameters = {}\n",
    "diff_hidden_layers_costs = {}\n",
    "count = 1\n",
    "\n",
    "for hidden_layer in diff_hidden_layers_size:\n",
    "    model_name = \"Hidden layer sizes = \"+str(hidden_layer)\n",
    "    parameters,cost = optimize(X_train, y_train, hidden_layer, learning_rate = 0.01, num_iterations = 10000, print_cost=True,model_name = model_name)\n",
    "    diff_hidden_layers_parameters[\"NN\"+str(hidden_layer)] = parameters\n",
    "    diff_hidden_layers_costs[\"NN\"+str(count)] = cost\n",
    "    count += 1"
   ]
  },
  {
   "cell_type": "code",
   "execution_count": 125,
   "metadata": {
    "collapsed": true
   },
   "outputs": [
    {
     "data": {
      "text/plain": [
       "{'NN1': [0.6742475102640869,\n",
       "  0.34611284576696183,\n",
       "  0.29698382168386567,\n",
       "  0.25750225796313897,\n",
       "  0.2256166734702535,\n",
       "  0.2035292972186034,\n",
       "  0.18078405662351874,\n",
       "  0.15623342171302648,\n",
       "  0.13236841009505607,\n",
       "  0.11322179310344557],\n",
       " 'NN2': [1.1625663959462895,\n",
       "  0.32760230894601217,\n",
       "  0.2832855603572259,\n",
       "  0.2538946353398461,\n",
       "  0.21904065682340734,\n",
       "  0.17300912010916486,\n",
       "  0.1359779327453295,\n",
       "  0.10293326112949236,\n",
       "  0.0754305420429044,\n",
       "  0.05287785442447188],\n",
       " 'NN3': [0.9091831417548997,\n",
       "  0.36100573091299515,\n",
       "  0.28645951193712227,\n",
       "  0.22020360428672736,\n",
       "  0.16314249835295638,\n",
       "  0.10659007618946474,\n",
       "  0.0647174244363357,\n",
       "  0.042781139490520856,\n",
       "  0.027977623007444778,\n",
       "  0.018352708688199923],\n",
       " 'NN4': [2.9978208233120287,\n",
       "  0.17634362393911554,\n",
       "  0.13287566261646233,\n",
       "  0.11432797363399543,\n",
       "  0.09014375707020496,\n",
       "  0.05795868566131856,\n",
       "  0.029272496628959428,\n",
       "  0.022921177217831646,\n",
       "  0.016932022340782317,\n",
       "  0.012225081373685238],\n",
       " 'NN5': [1.2689008779380604,\n",
       "  0.12759528528441694,\n",
       "  0.10679439250499634,\n",
       "  0.08381070004555802,\n",
       "  0.06259880153330431,\n",
       "  0.050199704431047674,\n",
       "  0.0394232782582958,\n",
       "  0.033583300123789045,\n",
       "  0.018590252232085852,\n",
       "  0.013768282771650936],\n",
       " 'NN6': [4.128921638668764,\n",
       "  0.07985723693932312,\n",
       "  0.0714424192649188,\n",
       "  0.056725093241622775,\n",
       "  0.053719554096364204,\n",
       "  0.03842148996302316,\n",
       "  0.03758786705610171,\n",
       "  0.025543302289529054,\n",
       "  0.021427695268642803,\n",
       "  0.022716371401172032]}"
      ]
     },
     "execution_count": 125,
     "metadata": {},
     "output_type": "execute_result"
    }
   ],
   "source": [
    "diff_hidden_layers_costs"
   ]
  },
  {
   "cell_type": "markdown",
   "metadata": {},
   "source": [
    "## Using model for prediction"
   ]
  },
  {
   "cell_type": "code",
   "execution_count": 198,
   "metadata": {},
   "outputs": [],
   "source": [
    "def model_predict(x,parameters):\n",
    "    activations[\"A0\"] = x\n",
    "    L = len(parameters) // 2\n",
    "    for l in range(1, L):\n",
    "        A_prev = activations[\"A\"+str(l-1)]\n",
    "        linear[\"Z\"+str(l)] = np.dot(parameters[\"W\"+str(l)],A_prev)+parameters[\"b\"+str(l)]\n",
    "        activations[\"A\"+str(l)] = 1/(1+np.exp(-linear[\"Z\"+str(l)]))\n",
    "    linear[\"Z\"+str(L)] = np.dot(parameters[\"W\"+str(L)],activations[\"A\"+str(l)])+parameters[\"b\"+str(L)]\n",
    "    print(linear[\"Z\"+str(L)].shape)\n",
    "    y = 1/(1+np.exp(-linear[\"Z\"+str(L)]))\n",
    "    return y"
   ]
  },
  {
   "cell_type": "code",
   "execution_count": 199,
   "metadata": {},
   "outputs": [],
   "source": [
    "def predict(x,parameters):\n",
    "    y = model_predict(x,parameters)\n",
    "    y[y>=0.5] = 1\n",
    "    y[y<0.5] = 0\n",
    "    return y"
   ]
  },
  {
   "cell_type": "code",
   "execution_count": 213,
   "metadata": {
    "scrolled": true
   },
   "outputs": [
    {
     "name": "stdout",
     "output_type": "stream",
     "text": [
      "(1, 91)\n"
     ]
    },
    {
     "name": "stderr",
     "output_type": "stream",
     "text": [
      "<ipython-input-198-426a5815e97a>:7: RuntimeWarning: overflow encountered in exp\n",
      "  activations[\"A\"+str(l)] = 1/(1+np.exp(-linear[\"Z\"+str(l)]))\n"
     ]
    },
    {
     "data": {
      "text/plain": [
       "array([[0, 0, 1, 0, 0, 1, 0, 0, 0, 0, 1, 1, 0, 1, 1, 1, 1, 1, 0, 1, 1, 1,\n",
       "        0, 0, 1, 0, 1, 1, 1, 1, 0, 1, 1, 0, 1, 0, 0, 1, 1, 1, 0, 1, 1, 1,\n",
       "        1, 1, 1, 1, 1, 1, 1, 0, 1, 0, 1, 1, 1, 1, 0, 1, 0, 1, 0, 1, 1, 0,\n",
       "        1, 1, 1, 1, 1, 1, 1, 0, 0, 1, 1, 1, 1, 0, 0, 0, 1, 1, 1, 0, 0, 0,\n",
       "        1, 0, 1]])"
      ]
     },
     "execution_count": 213,
     "metadata": {},
     "output_type": "execute_result"
    }
   ],
   "source": [
    "predictions = predict(X_test,diff_hidden_layers_parameters[\"NN[13, 100, 100, 1]\"])\n",
    "predictions = predictions.astype(int)\n",
    "predictions"
   ]
  },
  {
   "cell_type": "code",
   "execution_count": 184,
   "metadata": {},
   "outputs": [
    {
     "data": {
      "text/plain": [
       "array([[0, 1, 0, 0, 1, 0, 0, 0, 0, 0, 1, 1, 0, 1, 1, 1, 1, 1, 0, 1, 1, 0,\n",
       "        0, 0, 1, 0, 0, 0, 1, 1, 0, 0, 1, 1, 1, 0, 0, 1, 0, 0, 1, 1, 1, 0,\n",
       "        1, 1, 1, 0, 0, 1, 1, 1, 1, 1, 1, 0, 1, 0, 1, 1, 1, 1, 1, 1, 0, 0,\n",
       "        0, 0, 1, 1, 1, 1, 1, 0, 0, 1, 0, 0, 1, 1, 0, 0, 0, 1, 0, 0, 0, 0,\n",
       "        1, 0, 0]], dtype=int64)"
      ]
     },
     "execution_count": 184,
     "metadata": {},
     "output_type": "execute_result"
    }
   ],
   "source": [
    "y_test"
   ]
  },
  {
   "cell_type": "code",
   "execution_count": null,
   "metadata": {},
   "outputs": [],
   "source": []
  }
 ],
 "metadata": {
  "kernelspec": {
   "display_name": "Python 3",
   "language": "python",
   "name": "python3"
  },
  "language_info": {
   "codemirror_mode": {
    "name": "ipython",
    "version": 3
   },
   "file_extension": ".py",
   "mimetype": "text/x-python",
   "name": "python",
   "nbconvert_exporter": "python",
   "pygments_lexer": "ipython3",
   "version": "3.8.5"
  }
 },
 "nbformat": 4,
 "nbformat_minor": 4
}
